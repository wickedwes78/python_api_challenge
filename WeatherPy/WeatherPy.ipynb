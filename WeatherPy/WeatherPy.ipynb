{
 "cells": [
  {
   "cell_type": "markdown",
   "metadata": {},
   "source": [
    "# WeatherPy\n",
    "\n",
    "---\n",
    "\n",
    "## Starter Code to Generate Random Geographic Coordinates and a List of Cities"
   ]
  },
  {
   "cell_type": "code",
   "execution_count": 1,
   "metadata": {
    "scrolled": true
   },
   "outputs": [],
   "source": [
    "# Dependencies and Setup\n",
    "import matplotlib.pyplot as plt\n",
    "import pandas as pd\n",
    "import numpy as np\n",
    "import requests\n",
    "import time\n",
    "import datetime \n",
    "from scipy.stats import linregress\n",
    "\n",
    "# Impor the OpenWeatherMap API key\n",
    "from api_keys import weather_api_key\n",
    "\n",
    "# Import citipy to determine the cities based on latitude and longitude\n",
    "from citipy import citipy"
   ]
  },
  {
   "cell_type": "markdown",
   "metadata": {},
   "source": [
    "### Generate the Cities List by Using the `citipy` Library"
   ]
  },
  {
   "cell_type": "code",
   "execution_count": null,
   "metadata": {},
   "outputs": [],
   "source": [
    "# Empty list for holding the latitude and longitude combinations\n",
    "lat_lngs = []\n",
    "\n",
    "# Empty list for holding the cities names\n",
    "cities = []\n",
    "\n",
    "# Range of latitudes and longitudes\n",
    "lat_range = (-90, 90)\n",
    "lng_range = (-180, 180)\n",
    "\n",
    "# Create a set of random lat and lng combinations\n",
    "lats = np.random.uniform(lat_range[0], lat_range[1], size=1500)\n",
    "lngs = np.random.uniform(lng_range[0], lng_range[1], size=1500)\n",
    "lat_lngs = zip(lats, lngs)\n",
    "\n",
    "# Identify nearest city for each lat, lng combination\n",
    "for lat_lng in lat_lngs:\n",
    "    city = citipy.nearest_city(lat_lng[0], lat_lng[1]).city_name\n",
    "    \n",
    "    # If the city is unique, then add it to a our cities list\n",
    "    if city not in cities:\n",
    "        cities.append(city)\n",
    "\n",
    "# Print the city count to confirm sufficient count\n",
    "print(f\"Number of cities in the list: {len(cities)}\")"
   ]
  },
  {
   "cell_type": "markdown",
   "metadata": {},
   "source": [
    "---"
   ]
  },
  {
   "cell_type": "markdown",
   "metadata": {},
   "source": [
    "## Requirement 1: Create Plots to Showcase the Relationship Between Weather Variables and Latitude\n",
    "\n",
    "### Use the OpenWeatherMap API to retrieve weather data from the cities list generated in the started code"
   ]
  },
  {
   "cell_type": "code",
   "execution_count": null,
   "metadata": {},
   "outputs": [],
   "source": [
    "# Set the API base URL\n",
    "url = \"http://api.openweathermap.org/data/2.5/weather?\"\n",
    "\n",
    "# Define an empty list to fetch the weather data for each city\n",
    "city_data = []\n",
    "\n",
    "# Print to logger\n",
    "print(\"Beginning Data Retrieval     \")\n",
    "print(\"-----------------------------\")\n",
    "\n",
    "# Create counters\n",
    "record_count = 1\n",
    "set_count = 1\n",
    "\n",
    "# Loop through all the cities in our list to fetch weather data\n",
    "for i, city in enumerate(cities):\n",
    "        \n",
    "    # Group cities in sets of 50 for logging purposes\n",
    "    if (i % 50 == 0 and i >= 50):\n",
    "        set_count += 1\n",
    "        record_count = 0\n",
    "\n",
    "    # Create endpoint URL with each city\n",
    "    city_url = f\"{url}appid={weather_api_key}&units=metric&q={city}\"\n",
    "    \n",
    "    # Log the url, record, and set numbers\n",
    "    print(\"Processing Record %s of Set %s | %s\" % (record_count, set_count, city))\n",
    "\n",
    "    # Add 1 to the record count\n",
    "    record_count += 1\n",
    "\n",
    "    # Run an API request for each of the cities\n",
    "    try:\n",
    "        # Parse the JSON and retrieve data\n",
    "        city_weather = requests.get(city_url).json()\n",
    "\n",
    "        # Parse out latitude, longitude, max temp, humidity, cloudiness, wind speed, country, and date\n",
    "        city_lat = city_weather['coord']['lat']\n",
    "        city_lng = city_weather['coord']['lon']\n",
    "        city_max_temp = city_weather['main']['temp_max']\n",
    "        city_humidity = city_weather['main']['humidity']\n",
    "        city_clouds = city_weather['clouds']['all']\n",
    "        city_wind = city_weather['wind']['speed']\n",
    "        city_country = city_weather['sys']['country']\n",
    "        city_date = city_weather['dt']\n",
    "\n",
    "        # Append the City information into city_data list\n",
    "        city_data.append({\"City\": city, \n",
    "                          \"Lat\": city_lat, \n",
    "                          \"Lng\": city_lng, \n",
    "                          \"Max Temp\": city_max_temp,\n",
    "                          \"Humidity\": city_humidity,\n",
    "                          \"Cloudiness\": city_clouds,\n",
    "                          \"Wind Speed\": city_wind,\n",
    "                          \"Country\": city_country,\n",
    "                          \"Date\": city_date})\n",
    "\n",
    "    # If an error is experienced, skip the city\n",
    "    except:\n",
    "        print(\"City not found. Skipping...\")\n",
    "        pass\n",
    "              \n",
    "# Indicate that Data Loading is complete \n",
    "print(\"-----------------------------\")\n",
    "print(\"Data Retrieval Complete      \")\n",
    "print(\"-----------------------------\")"
   ]
  },
  {
   "cell_type": "code",
   "execution_count": null,
   "metadata": {},
   "outputs": [],
   "source": [
    "# Convert the cities weather data into a Pandas DataFrame\n",
    "city_data_df = pd.DataFrame(city_data)\n",
    "\n",
    "# Show Record Count\n",
    "city_data_df.count()"
   ]
  },
  {
   "cell_type": "code",
   "execution_count": null,
   "metadata": {},
   "outputs": [],
   "source": [
    "# Display sample data\n",
    "city_data_df.head()"
   ]
  },
  {
   "cell_type": "code",
   "execution_count": null,
   "metadata": {},
   "outputs": [],
   "source": [
    "# Export the City_Data into a csv\n",
    "city_data_df.to_csv(\"../output_data/cities.csv\", index_label=\"City_ID\")"
   ]
  },
  {
   "cell_type": "code",
   "execution_count": null,
   "metadata": {},
   "outputs": [],
   "source": [
    "# Read saved data\n",
    "city_data_df = pd.read_csv(\"../output_data/cities.csv\", index_col=\"City_ID\")\n",
    "\n",
    "# Display sample data\n",
    "city_data_df.head()"
   ]
  },
  {
   "cell_type": "markdown",
   "metadata": {},
   "source": [
    "### Create the Scatter Plots Requested\n",
    "\n",
    "#### Latitude Vs. Temperature"
   ]
  },
  {
   "cell_type": "code",
   "execution_count": null,
   "metadata": {
    "tags": []
   },
   "outputs": [],
   "source": [
    "# Build scatter plot for latitude vs. temperature\n",
    "plt.scatter(city_data_df[\"Lat\"],city_data_df[\"Max Temp\"],marker =\"o\", facecolors = \"blue\", edgecolors =\"black\")\n",
    "\n",
    "# Incorporate the other graph properties\n",
    "plt.title(f\"City Max Latitude vs Temperature ({date.strftime('%d-%m-%Y')})\")\n",
    "plt.xlabel(\"Latitude\")\n",
    "plt.ylabel(\"Max Temperature (C)\")\n",
    "plt.grid(True)\n",
    "\n",
    "# Save the figure\n",
    "plt.savefig(\"..\\output_data/Fig1.png\")\n",
    "\n",
    "# Show plot\n",
    "plt.show()"
   ]
  },
  {
   "cell_type": "markdown",
   "metadata": {},
   "source": [
    "#### Latitude Vs. Humidity"
   ]
  },
  {
   "cell_type": "code",
   "execution_count": null,
   "metadata": {},
   "outputs": [],
   "source": [
    "# Build the scatter plots for latitude vs. humidity\n",
    "plt.scatter(city_data_df[\"Lat\"],city_data_df[\"Humidity\"],marker =\"o\", facecolors = \"blue\", edgecolors =\"black\")\n",
    "\n",
    "# Incorporate the other graph properties\n",
    "plt.title(f\"City Max Latitude vs Humidity ({date.strftime('%d-%m-%Y')})\")\n",
    "plt.xlabel(\"Latitude\")\n",
    "plt.ylabel(\"Humidity (%)\")\n",
    "plt.grid(True)\n",
    "\n",
    "# Save the figure\n",
    "plt.savefig(\"..\\output_data/Fig2.png\")\n",
    "\n",
    "# Show plot\n",
    "plt.show()"
   ]
  },
  {
   "cell_type": "markdown",
   "metadata": {},
   "source": [
    "#### Latitude Vs. Cloudiness"
   ]
  },
  {
   "cell_type": "code",
   "execution_count": null,
   "metadata": {},
   "outputs": [],
   "source": [
    "# Build the scatter plots for latitude vs. cloudiness\n",
    "plt.scatter(city_data_df[\"Lat\"],city_data_df[\"Cloudiness\"],marker =\"o\", facecolors = \"blue\", edgecolors =\"black\")\n",
    "\n",
    "# Incorporate the other graph properties\n",
    "plt.title(f\"City Max Latitude vs Cloudiness ({date.strftime('%d-%m-%Y')})\")\n",
    "plt.xlabel(\"Latitude\")\n",
    "plt.ylabel(\"Cloudiness (%)\")\n",
    "plt.grid(True)\n",
    "\n",
    "# Save the figure\n",
    "plt.savefig(\"..\\output_data/Fig3.png\")\n",
    "\n",
    "# Show plot\n",
    "plt.show()"
   ]
  },
  {
   "cell_type": "markdown",
   "metadata": {},
   "source": [
    "#### Latitude vs. Wind Speed Plot"
   ]
  },
  {
   "cell_type": "code",
   "execution_count": null,
   "metadata": {},
   "outputs": [],
   "source": [
    "# Build the scatter plots for latitude vs. wind speed\n",
    "plt.scatter(city_data_df[\"Lat\"],city_data_df[\"Wind Speed\"],marker =\"o\", facecolors = \"blue\", edgecolors =\"black\")\n",
    "\n",
    "# Incorporate the other graph properties\n",
    "plt.title(f\"City Max Latitude vs Wind Speed ({date.strftime('%d-%m-%Y')})\")\n",
    "plt.xlabel(\"Latitude\")\n",
    "plt.ylabel(\"Wind speed (m/s)\")\n",
    "plt.grid(True)\n",
    "\n",
    "# Save the figure\n",
    "plt.savefig(\"..\\output_data/Fig4.png\")\n",
    "\n",
    "# Show plot\n",
    "plt.show()"
   ]
  },
  {
   "cell_type": "markdown",
   "metadata": {},
   "source": [
    "---\n",
    "\n",
    "## Requirement 2: Compute Linear Regression for Each Relationship\n"
   ]
  },
  {
   "cell_type": "code",
   "execution_count": null,
   "metadata": {},
   "outputs": [],
   "source": [
    "# Define a function to create Linear Regression plots\n",
    "x_values = [1,2,3]\n",
    "y_values = [1,2,3]\n",
    "slope, intercept, rvalue, pvalue, stderr = linregress(x_values, y_values)\n",
    "def JRSfunc(x_values):\n",
    "    return slope * x_values + intercept\n",
    "regress_values = list(map(JRSfunc, x_values))"
   ]
  },
  {
   "cell_type": "code",
   "execution_count": null,
   "metadata": {},
   "outputs": [],
   "source": [
    "# Create a DataFrame with the Northern Hemisphere data (Latitude >= 0)\n",
    "northern_hemi_df = city_data_df.loc[city_data_df[\"Lat\"] >=0]\n",
    "\n",
    "# Display sample data\n",
    "northern_hemi_df.head()"
   ]
  },
  {
   "cell_type": "code",
   "execution_count": null,
   "metadata": {},
   "outputs": [],
   "source": [
    "# Create a DataFrame with the Southern Hemisphere data (Latitude < 0)\n",
    "southern_hemi_df = city_data_df.loc[city_data_df[\"Lat\"]<0]\n",
    "\n",
    "# Display sample data\n",
    "southern_hemi_df.head()"
   ]
  },
  {
   "cell_type": "markdown",
   "metadata": {},
   "source": [
    "###  Temperature vs. Latitude Linear Regression Plot"
   ]
  },
  {
   "cell_type": "code",
   "execution_count": null,
   "metadata": {},
   "outputs": [],
   "source": [
    "# Linear regression on Northern Hemisphere\n",
    "x_values = northern_hemi_df[\"Lat\"]\n",
    "x_axis_label = \"Latitude\"\n",
    "y_values = northern_hemi_df[\"Max Temp\"]\n",
    "y_axis_label = \"Max Temperature (C)\"\n",
    "title = f\"Northern Hemisphere - City Max Latitude vs Temperature ({date.strftime('%d-%m-%Y')})\"\n",
    "\n",
    "x_position = northern_hemi_df[\"Lat\"].min()\n",
    "y_position = northern_hemi_df[\"Max Temp\"].min()\n",
    "\n",
    "slope, intercept, rvalue, pvalue, stderr = linregress(x_values, y_values)\n",
    "def JRSfunc(x_values):\n",
    "    return slope * x_values + intercept\n",
    "regression_line = list(map(JRSfunc, x_values))\n",
    "                      \n",
    "# Incorporate the scatterplot\n",
    "plt.scatter(x_values,y_values,marker =\"o\", facecolors = \"blue\")\n",
    "plt.plot(x_values,regression_line,\"r-\")\n",
    "plt.title(title)\n",
    "plt.xlabel(x_axis_label)\n",
    "plt.ylabel(y_axis_label)\n",
    "plt.annotate(f\"y={slope:.2f}x+{intercept:.2f}\",(x_position,y_position),fontsize=10,color=\"red\")\n",
    "\n",
    "# Show plot and r value\n",
    "print(f\"The r-value is: {rvalue**2}\")\n",
    "plt.show()"
   ]
  },
  {
   "cell_type": "code",
   "execution_count": null,
   "metadata": {},
   "outputs": [],
   "source": [
    "# Linear regression on Southern Hemisphere\n",
    "x_values = southern_hemi_df[\"Lat\"]\n",
    "x_axis_label = \"Latitude\"\n",
    "y_values = southern_hemi_df[\"Max Temp\"]\n",
    "y_axis_label = \"Max Temperature (C)\"\n",
    "title = f\"Southern Hemisphere - City Max Latitude vs Temperature ({date.strftime('%d-%m-%Y')}\"\n",
    "\n",
    "x_position = southern_hemi_df[\"Lat\"].min()\n",
    "y_position = southern_hemi_df[\"Max Temp\"].min()\n",
    "\n",
    "slope, intercept, rvalue, pvalue, stderr = linregress(x_values, y_values)\n",
    "def JRSfunc(x_values):\n",
    "    return slope * x_values + intercept\n",
    "regression_line = list(map(JRSfunc, x_values))\n",
    "\n",
    "# Incorporate the scatterplot & regression line\n",
    "plt.scatter(x_values,y_values,marker =\"o\", facecolors = \"blue\")\n",
    "plt.plot(x_values,regression_line,\"r-\")\n",
    "plt.title(title)\n",
    "plt.xlabel(x_axis_label)\n",
    "plt.ylabel(y_axis_label)\n",
    "plt.annotate(f\"y={slope:.2f}x+{intercept:.2f}\",(x_position,y_position),fontsize=10,color=\"red\")\n",
    "\n",
    "# Show plot and r value\n",
    "print(f\"The r-value is: {rvalue**2}\")\n",
    "plt.show()"
   ]
  },
  {
   "cell_type": "markdown",
   "metadata": {},
   "source": [
    "**Discussion about the linear relationship:** YOUR RESPONSE HERE"
   ]
  },
  {
   "cell_type": "markdown",
   "metadata": {},
   "source": [
    "### Humidity vs. Latitude Linear Regression Plot"
   ]
  },
  {
   "cell_type": "code",
   "execution_count": null,
   "metadata": {},
   "outputs": [],
   "source": [
    "# Northern Hemisphere\n",
    "x_values = northern_hemi_df[\"Lat\"]\n",
    "x_axis_label = \"Latitude\"\n",
    "y_values = northern_hemi_df[\"Humidity\"]\n",
    "y_axis_label = \"Humidity (%)\"\n",
    "title = f\"Northern Hemisphere - City Max Latitude vs Humidity ({date.strftime('%d-%m-%Y')}\"\n",
    "\n",
    "x_position = northern_hemi_df[\"Lat\"].min()\n",
    "y_position = northern_hemi_df[\"Humidity\"].min()\n",
    "\n",
    "slope, intercept, rvalue, pvalue, stderr = linregress(x_values, y_values)\n",
    "def JRSfunc(x_values):\n",
    "    return slope * x_values + intercept\n",
    "regression_line = list(map(JRSfunc, x_values))\n",
    "                      \n",
    "# Incorporate the scatterplot\n",
    "plt.scatter(x_values,y_values,marker =\"o\", facecolors = \"blue\")\n",
    "plt.plot(x_values,regression_line,\"r-\")\n",
    "plt.title(title)\n",
    "plt.xlabel(x_axis_label)\n",
    "plt.ylabel(y_axis_label)\n",
    "plt.annotate(f\"y={slope:.2f}x+{intercept:.2f}\",(x_position,y_position),fontsize=10,color=\"red\")\n",
    "\n",
    "# Show plot and r value\n",
    "print(f\"The r-value is: {rvalue**2}\")\n",
    "plt.show()"
   ]
  },
  {
   "cell_type": "code",
   "execution_count": null,
   "metadata": {},
   "outputs": [],
   "source": [
    "# Southern Hemisphere\n",
    "x_values = southern_hemi_df[\"Lat\"]\n",
    "x_axis_label = \"Latitude\"\n",
    "y_values = southern_hemi_df[\"Humidity\"]\n",
    "y_axis_label = \"Humidity (%)\"\n",
    "title = f\"Southern Hemisphere - City Max Latitude vs Humidity ({date.strftime('%d-%m-%Y')})\"\n",
    "\n",
    "x_position = southern_hemi_df[\"Lat\"].min()\n",
    "y_position = southern_hemi_df[\"Humidity\"].min()\n",
    "\n",
    "slope, intercept, rvalue, pvalue, stderr = linregress(x_values, y_values)\n",
    "def JRSfunc(x_values):\n",
    "    return slope * x_values + intercept\n",
    "regression_line = list(map(JRSfunc, x_values))\n",
    "                      \n",
    "# Incorporate the scatterplot\n",
    "plt.scatter(x_values,y_values,marker =\"o\", facecolors = \"blue\")\n",
    "plt.plot(x_values,regression_line,\"r-\")\n",
    "plt.title(title)\n",
    "plt.xlabel(x_axis_label)\n",
    "plt.ylabel(y_axis_label)\n",
    "plt.annotate(f\"y={slope:.2f}x+{intercept:.2f}\",(x_position,y_position),fontsize=10,color=\"red\")\n",
    "\n",
    "# Show plot and r value\n",
    "print(f\"The r-value is: {rvalue**2}\")\n",
    "plt.show()"
   ]
  },
  {
   "cell_type": "markdown",
   "metadata": {},
   "source": [
    "**Discussion about the linear relationship:** YOUR RESPONSE HERE"
   ]
  },
  {
   "cell_type": "markdown",
   "metadata": {},
   "source": [
    "### Cloudiness vs. Latitude Linear Regression Plot"
   ]
  },
  {
   "cell_type": "code",
   "execution_count": null,
   "metadata": {},
   "outputs": [],
   "source": [
    "# Northern Hemisphere\n",
    "x_values = northern_hemi_df[\"Lat\"]\n",
    "x_axis_label = \"Latitude\"\n",
    "y_values = northern_hemi_df[\"Cloudiness\"]\n",
    "y_axis_label = \"Cloudiness (%)\"\n",
    "title = f\"Northern Hemisphere - City Max Latitude vs Cloudiness ({date.strftime('%d-%m-%Y')})\"\n",
    "\n",
    "x_position = northern_hemi_df[\"Lat\"].min()\n",
    "y_position = northern_hemi_df[\"Cloudiness\"].min()\n",
    "\n",
    "slope, intercept, rvalue, pvalue, stderr = linregress(x_values, y_values)\n",
    "def JRSfunc(x_values):\n",
    "    return slope * x_values + intercept\n",
    "regression_line = list(map(JRSfunc, x_values))\n",
    "                      \n",
    "# Incorporate the scatterplot\n",
    "plt.scatter(x_values,y_values,marker =\"o\", facecolors = \"blue\")\n",
    "plt.plot(x_values,regression_line,\"r-\")\n",
    "plt.title(title)\n",
    "plt.xlabel(x_axis_label)\n",
    "plt.ylabel(y_axis_label)\n",
    "plt.annotate(f\"y={slope:.2f}x+{intercept:.2f}\",(x_position,y_position),fontsize=10,color=\"red\")\n",
    "\n",
    "# Show plot and r value\n",
    "print(f\"The r-value is: {rvalue**2}\")\n",
    "plt.show()"
   ]
  },
  {
   "cell_type": "code",
   "execution_count": null,
   "metadata": {},
   "outputs": [],
   "source": [
    "# Southern Hemisphere\n",
    "x_values = southern_hemi_df[\"Lat\"]\n",
    "x_axis_label = \"Latitude\"\n",
    "y_values = southern_hemi_df[\"Cloudiness\"]\n",
    "y_axis_label = \"Humidity (%)\"\n",
    "title = f\"Southern Hemisphere - City Max Latitude vs Cloudiness ({date.strftime('%d-%m-%Y')})\"\n",
    "\n",
    "x_position = southern_hemi_df[\"Lat\"].min()\n",
    "y_position = southern_hemi_df[\"Cloudiness\"].min()\n",
    "\n",
    "slope, intercept, rvalue, pvalue, stderr = linregress(x_values, y_values)\n",
    "def JRSfunc(x_values):\n",
    "    return slope * x_values + intercept\n",
    "regression_line = list(map(JRSfunc, x_values))\n",
    "                      \n",
    "# Incorporate the scatterplot\n",
    "plt.scatter(x_values,y_values,marker =\"o\", facecolors = \"blue\")\n",
    "plt.plot(x_values,regression_line,\"r-\")\n",
    "plt.title(title)\n",
    "plt.xlabel(x_axis_label)\n",
    "plt.ylabel(y_axis_label)\n",
    "plt.annotate(f\"y={slope:.2f}x+{intercept:.2f}\",(x_position,y_position),fontsize=10,color=\"red\")\n",
    "\n",
    "# Show plot and r value\n",
    "print(f\"The r-value is: {rvalue**2}\")\n",
    "plt.show()"
   ]
  },
  {
   "cell_type": "markdown",
   "metadata": {},
   "source": [
    "**Discussion about the linear relationship:** YOUR RESPONSE HERE"
   ]
  },
  {
   "cell_type": "markdown",
   "metadata": {},
   "source": [
    "### Wind Speed vs. Latitude Linear Regression Plot"
   ]
  },
  {
   "cell_type": "code",
   "execution_count": null,
   "metadata": {},
   "outputs": [],
   "source": [
    "# Northern Hemisphere\n",
    "x_values = northern_hemi_df[\"Lat\"]\n",
    "x_axis_label = \"Latitude\"\n",
    "y_values = northern_hemi_df[\"Wind Speed\"]\n",
    "y_axis_label = \"Wind Speed (m/s)\"\n",
    "title = f\"Northern Hemisphere - City Max Latitude vs Wind Speed ({date.strftime('%d-%m-%Y')})\"\n",
    "\n",
    "x_position = northern_hemi_df[\"Lat\"].min()\n",
    "y_position = northern_hemi_df[\"Wind Speed\"].min()\n",
    "\n",
    "slope, intercept, rvalue, pvalue, stderr = linregress(x_values, y_values)\n",
    "def JRSfunc(x_values):\n",
    "    return slope * x_values + intercept\n",
    "regression_line = list(map(JRSfunc, x_values))\n",
    "                      \n",
    "# Incorporate the scatterplot\n",
    "plt.scatter(x_values,y_values,marker =\"o\", facecolors = \"blue\")\n",
    "plt.plot(x_values,regression_line,\"r-\")\n",
    "plt.title(title)\n",
    "plt.xlabel(x_axis_label)\n",
    "plt.ylabel(y_axis_label)\n",
    "plt.annotate(f\"y={slope:.2f}x+{intercept:.2f}\",(x_position,y_position),fontsize=10,color=\"red\")\n",
    "\n",
    "# Show plot and r value\n",
    "print(f\"The r-value is: {rvalue**2}\")\n",
    "plt.show()"
   ]
  },
  {
   "cell_type": "code",
   "execution_count": null,
   "metadata": {},
   "outputs": [],
   "source": [
    "# Southern Hemisphere\n",
    "x_values = southern_hemi_df[\"Lat\"]\n",
    "x_axis_label = \"Latitude\"\n",
    "y_values = southern_hemi_df[\"Wind Speed\"]\n",
    "y_axis_label = \"Wind Speed (m/s)\"\n",
    "title = f\"Southern Hemisphere - City Max Latitude vs Wind Speed ({date.strftime('%d-%m-%Y')})\"\n",
    "\n",
    "x_position = southern_hemi_df[\"Lat\"].min()\n",
    "y_position = southern_hemi_df[\"Wind Speed\"].min()\n",
    "\n",
    "slope, intercept, rvalue, pvalue, stderr = linregress(x_values, y_values)\n",
    "def JRSfunc(x_values):\n",
    "    return slope * x_values + intercept\n",
    "regression_line = list(map(JRSfunc, x_values))\n",
    "                      \n",
    "# Incorporate the scatterplot\n",
    "plt.scatter(x_values,y_values,marker =\"o\", facecolors = \"blue\")\n",
    "plt.plot(x_values,regression_line,\"r-\")\n",
    "plt.title(title)\n",
    "plt.xlabel(x_axis_label)\n",
    "plt.ylabel(y_axis_label)\n",
    "plt.annotate(f\"y={slope:.2f}x+{intercept:.2f}\",(x_position,y_position),fontsize=10,color=\"red\")\n",
    "\n",
    "# Show plot and r value\n",
    "print(f\"The r-value is: {rvalue**2}\")\n",
    "plt.show()"
   ]
  },
  {
   "cell_type": "markdown",
   "metadata": {},
   "source": [
    "**Discussion about the linear relationship:** YOUR RESPONSE HERE"
   ]
  },
  {
   "cell_type": "code",
   "execution_count": null,
   "metadata": {},
   "outputs": [],
   "source": []
  }
 ],
 "metadata": {
  "anaconda-cloud": {},
  "kernel_info": {
   "name": "python3"
  },
  "kernelspec": {
   "display_name": "Python 3 (ipykernel)",
   "language": "python",
   "name": "python3"
  },
  "language_info": {
   "codemirror_mode": {
    "name": "ipython",
    "version": 3
   },
   "file_extension": ".py",
   "mimetype": "text/x-python",
   "name": "python",
   "nbconvert_exporter": "python",
   "pygments_lexer": "ipython3",
   "version": "3.10.10"
  },
  "latex_envs": {
   "LaTeX_envs_menu_present": true,
   "autoclose": false,
   "autocomplete": true,
   "bibliofile": "biblio.bib",
   "cite_by": "apalike",
   "current_citInitial": 1,
   "eqLabelWithNumbers": true,
   "eqNumInitial": 1,
   "hotkeys": {
    "equation": "Ctrl-E",
    "itemize": "Ctrl-I"
   },
   "labels_anchors": false,
   "latex_user_defs": false,
   "report_style_numbering": false,
   "user_envs_cfg": false
  },
  "nteract": {
   "version": "0.12.3"
  }
 },
 "nbformat": 4,
 "nbformat_minor": 4
}
